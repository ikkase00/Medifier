{
 "cells": [
  {
   "metadata": {
    "ExecuteTime": {
     "end_time": "2025-02-17T08:18:18.614834Z",
     "start_time": "2025-02-17T08:18:18.611475Z"
    }
   },
   "cell_type": "code",
   "source": "# yt-dlp -x --audio-format mp3 https://www.youtube.com/c/@MiddleAgesMusic ",
   "id": "654e4654f64886d2",
   "outputs": [],
   "execution_count": 9
  },
  {
   "metadata": {
    "ExecuteTime": {
     "end_time": "2025-02-17T08:18:18.621557Z",
     "start_time": "2025-02-17T08:18:18.618854Z"
    }
   },
   "cell_type": "code",
   "source": "import os ",
   "id": "bc5f418a76d8bb2f",
   "outputs": [],
   "execution_count": 10
  },
  {
   "metadata": {
    "ExecuteTime": {
     "end_time": "2025-02-17T08:18:18.626834Z",
     "start_time": "2025-02-17T08:18:18.623685Z"
    }
   },
   "cell_type": "code",
   "source": "auds = os.listdir('medi') ",
   "id": "27227d25df5130b9",
   "outputs": [],
   "execution_count": 11
  },
  {
   "metadata": {
    "ExecuteTime": {
     "end_time": "2025-02-17T08:18:18.645873Z",
     "start_time": "2025-02-17T08:18:18.627664Z"
    }
   },
   "cell_type": "code",
   "source": [
    "for aud_old in auds: \n",
    "    os.rename('medi/' + aud_old, 'medi/' + aud_old.replace(' (MedievalCover)', '_Medi')) \n",
    "    os.rename('medi/' + aud_old, 'medi/' + aud_old.replace(' (Medieval Cover)', '_Medi')) "
   ],
   "id": "95e3702f4f50bf87",
   "outputs": [],
   "execution_count": 12
  },
  {
   "metadata": {
    "ExecuteTime": {
     "end_time": "2025-02-17T08:18:18.649215Z",
     "start_time": "2025-02-17T08:18:18.646728Z"
    }
   },
   "cell_type": "code",
   "source": "auds = os.listdir('medi') ",
   "id": "baa36a5700ad311b",
   "outputs": [],
   "execution_count": 13
  },
  {
   "metadata": {
    "ExecuteTime": {
     "end_time": "2025-02-17T08:18:18.662274Z",
     "start_time": "2025-02-17T08:18:18.650644Z"
    }
   },
   "cell_type": "code",
   "source": [
    "for aud_old in auds: \n",
    "    for i, char in enumerate(aud_old): \n",
    "        if char == '[': \n",
    "            to_replace = aud_old[i:] \n",
    "            aud = aud_old.replace(to_replace, '.mp3') \n",
    "            aud = aud.replace(aud[-5], '') \n",
    "    \n",
    "            os.rename('medi/' + aud_old, 'medi/' + aud) "
   ],
   "id": "4c2389cded7c6d2e",
   "outputs": [],
   "execution_count": 14
  },
  {
   "metadata": {
    "ExecuteTime": {
     "end_time": "2025-02-17T08:18:18.664103Z",
     "start_time": "2025-02-17T08:18:18.662935Z"
    }
   },
   "cell_type": "code",
   "source": "",
   "id": "cdb38f51a733b1b6",
   "outputs": [],
   "execution_count": 14
  }
 ],
 "metadata": {
  "kernelspec": {
   "display_name": "Python 3",
   "language": "python",
   "name": "python3"
  },
  "language_info": {
   "codemirror_mode": {
    "name": "ipython",
    "version": 2
   },
   "file_extension": ".py",
   "mimetype": "text/x-python",
   "name": "python",
   "nbconvert_exporter": "python",
   "pygments_lexer": "ipython2",
   "version": "2.7.6"
  }
 },
 "nbformat": 4,
 "nbformat_minor": 5
}
