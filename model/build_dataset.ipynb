{
 "cells": [
  {
   "cell_type": "code",
   "id": "initial_id",
   "metadata": {
    "collapsed": true,
    "ExecuteTime": {
     "end_time": "2025-07-18T02:07:42.133736Z",
     "start_time": "2025-07-18T02:07:42.128655Z"
    }
   },
   "source": [
    "from pytube import YouTube \n",
    "import youtube_dl "
   ],
   "outputs": [],
   "execution_count": 32
  },
  {
   "metadata": {
    "ExecuteTime": {
     "end_time": "2025-07-18T02:07:42.960441Z",
     "start_time": "2025-07-18T02:07:42.957414Z"
    }
   },
   "cell_type": "code",
   "source": [
    "urls = [\"https://www.youtube.com/watch?v=DEeAN471boQ\", \n",
    "        \"http://youtube.com/watch?v=OxMQjlBq6zQ\", \n",
    "        \"https://www.youtube.com/watch?v=ipFaubyDUT4\", \n",
    "        \"https://www.youtube.com/watch?v=5F5dgg1eeGE\", ] "
   ],
   "id": "8c8bacde66383dd0",
   "outputs": [],
   "execution_count": 33
  },
  {
   "metadata": {
    "ExecuteTime": {
     "end_time": "2025-07-18T02:07:43.742242Z",
     "start_time": "2025-07-18T02:07:43.737725Z"
    }
   },
   "cell_type": "code",
   "source": [
    "def extract(url):\n",
    "    ydl_opts = {\n",
    "        'format': 'bestaudio/best',\n",
    "        'outtmpl': './downloads/%(title)s.%(ext)s',\n",
    "        'postprocessors': [{\n",
    "            'key': 'FFmpegExtractAudio',\n",
    "            'preferredcodec': 'mp3',\n",
    "        }],\n",
    "    }\n",
    "    with youtube_dl.YoutubeDL(ydl_opts) as ydl:\n",
    "        ydl.download([url])"
   ],
   "id": "4106db3f634a3ecc",
   "outputs": [],
   "execution_count": 34
  },
  {
   "metadata": {
    "ExecuteTime": {
     "end_time": "2025-07-25T01:56:24.322368Z",
     "start_time": "2025-07-25T01:56:21.789118Z"
    }
   },
   "cell_type": "code",
   "source": "extract(urls[2]) ",
   "id": "54ff9808e4644886",
   "outputs": [
    {
     "name": "stdout",
     "output_type": "stream",
     "text": [
      "[youtube] ipFaubyDUT4: Downloading webpage\n",
      "[youtube] ipFaubyDUT4: Downloading API JSON\n"
     ]
    },
    {
     "name": "stderr",
     "output_type": "stream",
     "text": [
      "WARNING: unable to extract player URL; please report this issue on https://yt-dl.org/bug . Make sure you are using the latest version; see  https://yt-dl.org/update  on how to update. Be sure to call youtube-dl with the --verbose flag and include its complete output.\n",
      "ERROR: No video formats found; please report this issue on https://yt-dl.org/bug . Make sure you are using the latest version; see  https://yt-dl.org/update  on how to update. Be sure to call youtube-dl with the --verbose flag and include its complete output.\n"
     ]
    },
    {
     "ename": "DownloadError",
     "evalue": "ERROR: No video formats found; please report this issue on https://yt-dl.org/bug . Make sure you are using the latest version; see  https://yt-dl.org/update  on how to update. Be sure to call youtube-dl with the --verbose flag and include its complete output.",
     "output_type": "error",
     "traceback": [
      "\u001B[0;31m---------------------------------------------------------------------------\u001B[0m",
      "\u001B[0;31mExtractorError\u001B[0m                            Traceback (most recent call last)",
      "File \u001B[0;32m/Library/Python/3.9/site-packages/youtube_dl/YoutubeDL.py:815\u001B[0m, in \u001B[0;36mYoutubeDL.__handle_extraction_exceptions.<locals>.wrapper\u001B[0;34m(self, *args, **kwargs)\u001B[0m\n\u001B[1;32m    814\u001B[0m \u001B[38;5;28;01mtry\u001B[39;00m:\n\u001B[0;32m--> 815\u001B[0m     \u001B[38;5;28;01mreturn\u001B[39;00m \u001B[43mfunc\u001B[49m\u001B[43m(\u001B[49m\u001B[38;5;28;43mself\u001B[39;49m\u001B[43m,\u001B[49m\u001B[43m \u001B[49m\u001B[38;5;241;43m*\u001B[39;49m\u001B[43margs\u001B[49m\u001B[43m,\u001B[49m\u001B[43m \u001B[49m\u001B[38;5;241;43m*\u001B[39;49m\u001B[38;5;241;43m*\u001B[39;49m\u001B[43mkwargs\u001B[49m\u001B[43m)\u001B[49m\n\u001B[1;32m    816\u001B[0m \u001B[38;5;28;01mexcept\u001B[39;00m GeoRestrictedError \u001B[38;5;28;01mas\u001B[39;00m e:\n",
      "File \u001B[0;32m/Library/Python/3.9/site-packages/youtube_dl/YoutubeDL.py:836\u001B[0m, in \u001B[0;36mYoutubeDL.__extract_info\u001B[0;34m(self, url, ie, download, extra_info, process)\u001B[0m\n\u001B[1;32m    834\u001B[0m \u001B[38;5;129m@__handle_extraction_exceptions\u001B[39m\n\u001B[1;32m    835\u001B[0m \u001B[38;5;28;01mdef\u001B[39;00m \u001B[38;5;21m__extract_info\u001B[39m(\u001B[38;5;28mself\u001B[39m, url, ie, download, extra_info, process):\n\u001B[0;32m--> 836\u001B[0m     ie_result \u001B[38;5;241m=\u001B[39m \u001B[43mie\u001B[49m\u001B[38;5;241;43m.\u001B[39;49m\u001B[43mextract\u001B[49m\u001B[43m(\u001B[49m\u001B[43murl\u001B[49m\u001B[43m)\u001B[49m\n\u001B[1;32m    837\u001B[0m     \u001B[38;5;28;01mif\u001B[39;00m ie_result \u001B[38;5;129;01mis\u001B[39;00m \u001B[38;5;28;01mNone\u001B[39;00m:  \u001B[38;5;66;03m# Finished already (backwards compatibility; listformats and friends should be moved here)\u001B[39;00m\n",
      "File \u001B[0;32m/Library/Python/3.9/site-packages/youtube_dl/extractor/common.py:534\u001B[0m, in \u001B[0;36mInfoExtractor.extract\u001B[0;34m(self, url)\u001B[0m\n\u001B[1;32m    533\u001B[0m \u001B[38;5;28mself\u001B[39m\u001B[38;5;241m.\u001B[39minitialize()\n\u001B[0;32m--> 534\u001B[0m ie_result \u001B[38;5;241m=\u001B[39m \u001B[38;5;28;43mself\u001B[39;49m\u001B[38;5;241;43m.\u001B[39;49m\u001B[43m_real_extract\u001B[49m\u001B[43m(\u001B[49m\u001B[43murl\u001B[49m\u001B[43m)\u001B[49m\n\u001B[1;32m    535\u001B[0m \u001B[38;5;28;01mif\u001B[39;00m \u001B[38;5;28mself\u001B[39m\u001B[38;5;241m.\u001B[39m_x_forwarded_for_ip:\n",
      "File \u001B[0;32m/Library/Python/3.9/site-packages/youtube_dl/extractor/youtube.py:1733\u001B[0m, in \u001B[0;36mYoutubeIE._real_extract\u001B[0;34m(self, url)\u001B[0m\n\u001B[1;32m   1731\u001B[0m         \u001B[38;5;28;01mraise\u001B[39;00m ExtractorError(reason, expected\u001B[38;5;241m=\u001B[39m\u001B[38;5;28;01mTrue\u001B[39;00m)\n\u001B[0;32m-> 1733\u001B[0m \u001B[38;5;28;43mself\u001B[39;49m\u001B[38;5;241;43m.\u001B[39;49m\u001B[43m_sort_formats\u001B[49m\u001B[43m(\u001B[49m\u001B[43mformats\u001B[49m\u001B[43m)\u001B[49m\n\u001B[1;32m   1735\u001B[0m keywords \u001B[38;5;241m=\u001B[39m video_details\u001B[38;5;241m.\u001B[39mget(\u001B[38;5;124m'\u001B[39m\u001B[38;5;124mkeywords\u001B[39m\u001B[38;5;124m'\u001B[39m) \u001B[38;5;129;01mor\u001B[39;00m []\n",
      "File \u001B[0;32m/Library/Python/3.9/site-packages/youtube_dl/extractor/common.py:1374\u001B[0m, in \u001B[0;36mInfoExtractor._sort_formats\u001B[0;34m(self, formats, field_preference)\u001B[0m\n\u001B[1;32m   1373\u001B[0m \u001B[38;5;28;01mif\u001B[39;00m \u001B[38;5;129;01mnot\u001B[39;00m formats:\n\u001B[0;32m-> 1374\u001B[0m     \u001B[38;5;28;01mraise\u001B[39;00m ExtractorError(\u001B[38;5;124m'\u001B[39m\u001B[38;5;124mNo video formats found\u001B[39m\u001B[38;5;124m'\u001B[39m)\n\u001B[1;32m   1376\u001B[0m \u001B[38;5;28;01mfor\u001B[39;00m f \u001B[38;5;129;01min\u001B[39;00m formats:\n\u001B[1;32m   1377\u001B[0m     \u001B[38;5;66;03m# Automatically determine tbr when missing based on abr and vbr (improves\u001B[39;00m\n\u001B[1;32m   1378\u001B[0m     \u001B[38;5;66;03m# formats sorting in some cases)\u001B[39;00m\n",
      "\u001B[0;31mExtractorError\u001B[0m: No video formats found; please report this issue on https://yt-dl.org/bug . Make sure you are using the latest version; see  https://yt-dl.org/update  on how to update. Be sure to call youtube-dl with the --verbose flag and include its complete output.",
      "\nDuring handling of the above exception, another exception occurred:\n",
      "\u001B[0;31mDownloadError\u001B[0m                             Traceback (most recent call last)",
      "Cell \u001B[0;32mIn[46], line 1\u001B[0m\n\u001B[0;32m----> 1\u001B[0m \u001B[43mextract\u001B[49m\u001B[43m(\u001B[49m\u001B[43murls\u001B[49m\u001B[43m[\u001B[49m\u001B[38;5;241;43m2\u001B[39;49m\u001B[43m]\u001B[49m\u001B[43m)\u001B[49m \n",
      "Cell \u001B[0;32mIn[34], line 11\u001B[0m, in \u001B[0;36mextract\u001B[0;34m(url)\u001B[0m\n\u001B[1;32m      2\u001B[0m ydl_opts \u001B[38;5;241m=\u001B[39m {\n\u001B[1;32m      3\u001B[0m     \u001B[38;5;124m'\u001B[39m\u001B[38;5;124mformat\u001B[39m\u001B[38;5;124m'\u001B[39m: \u001B[38;5;124m'\u001B[39m\u001B[38;5;124mbestaudio/best\u001B[39m\u001B[38;5;124m'\u001B[39m,\n\u001B[1;32m      4\u001B[0m     \u001B[38;5;124m'\u001B[39m\u001B[38;5;124mouttmpl\u001B[39m\u001B[38;5;124m'\u001B[39m: \u001B[38;5;124m'\u001B[39m\u001B[38;5;124m./downloads/\u001B[39m\u001B[38;5;132;01m%(title)s\u001B[39;00m\u001B[38;5;124m.\u001B[39m\u001B[38;5;132;01m%(ext)s\u001B[39;00m\u001B[38;5;124m'\u001B[39m,\n\u001B[0;32m   (...)\u001B[0m\n\u001B[1;32m      8\u001B[0m     }],\n\u001B[1;32m      9\u001B[0m }\n\u001B[1;32m     10\u001B[0m \u001B[38;5;28;01mwith\u001B[39;00m youtube_dl\u001B[38;5;241m.\u001B[39mYoutubeDL(ydl_opts) \u001B[38;5;28;01mas\u001B[39;00m ydl:\n\u001B[0;32m---> 11\u001B[0m     \u001B[43mydl\u001B[49m\u001B[38;5;241;43m.\u001B[39;49m\u001B[43mdownload\u001B[49m\u001B[43m(\u001B[49m\u001B[43m[\u001B[49m\u001B[43murl\u001B[49m\u001B[43m]\u001B[49m\u001B[43m)\u001B[49m\n",
      "File \u001B[0;32m/Library/Python/3.9/site-packages/youtube_dl/YoutubeDL.py:2068\u001B[0m, in \u001B[0;36mYoutubeDL.download\u001B[0;34m(self, url_list)\u001B[0m\n\u001B[1;32m   2065\u001B[0m \u001B[38;5;28;01mfor\u001B[39;00m url \u001B[38;5;129;01min\u001B[39;00m url_list:\n\u001B[1;32m   2066\u001B[0m     \u001B[38;5;28;01mtry\u001B[39;00m:\n\u001B[1;32m   2067\u001B[0m         \u001B[38;5;66;03m# It also downloads the videos\u001B[39;00m\n\u001B[0;32m-> 2068\u001B[0m         res \u001B[38;5;241m=\u001B[39m \u001B[38;5;28;43mself\u001B[39;49m\u001B[38;5;241;43m.\u001B[39;49m\u001B[43mextract_info\u001B[49m\u001B[43m(\u001B[49m\n\u001B[1;32m   2069\u001B[0m \u001B[43m            \u001B[49m\u001B[43murl\u001B[49m\u001B[43m,\u001B[49m\u001B[43m \u001B[49m\u001B[43mforce_generic_extractor\u001B[49m\u001B[38;5;241;43m=\u001B[39;49m\u001B[38;5;28;43mself\u001B[39;49m\u001B[38;5;241;43m.\u001B[39;49m\u001B[43mparams\u001B[49m\u001B[38;5;241;43m.\u001B[39;49m\u001B[43mget\u001B[49m\u001B[43m(\u001B[49m\u001B[38;5;124;43m'\u001B[39;49m\u001B[38;5;124;43mforce_generic_extractor\u001B[39;49m\u001B[38;5;124;43m'\u001B[39;49m\u001B[43m,\u001B[49m\u001B[43m \u001B[49m\u001B[38;5;28;43;01mFalse\u001B[39;49;00m\u001B[43m)\u001B[49m\u001B[43m)\u001B[49m\n\u001B[1;32m   2070\u001B[0m     \u001B[38;5;28;01mexcept\u001B[39;00m UnavailableVideoError:\n\u001B[1;32m   2071\u001B[0m         \u001B[38;5;28mself\u001B[39m\u001B[38;5;241m.\u001B[39mreport_error(\u001B[38;5;124m'\u001B[39m\u001B[38;5;124munable to download video\u001B[39m\u001B[38;5;124m'\u001B[39m)\n",
      "File \u001B[0;32m/Library/Python/3.9/site-packages/youtube_dl/YoutubeDL.py:808\u001B[0m, in \u001B[0;36mYoutubeDL.extract_info\u001B[0;34m(self, url, download, ie_key, extra_info, process, force_generic_extractor)\u001B[0m\n\u001B[1;32m    804\u001B[0m     \u001B[38;5;28;01mif\u001B[39;00m \u001B[38;5;129;01mnot\u001B[39;00m ie\u001B[38;5;241m.\u001B[39mworking():\n\u001B[1;32m    805\u001B[0m         \u001B[38;5;28mself\u001B[39m\u001B[38;5;241m.\u001B[39mreport_warning(\u001B[38;5;124m'\u001B[39m\u001B[38;5;124mThe program functionality for this site has been marked as broken, \u001B[39m\u001B[38;5;124m'\u001B[39m\n\u001B[1;32m    806\u001B[0m                             \u001B[38;5;124m'\u001B[39m\u001B[38;5;124mand will probably not work.\u001B[39m\u001B[38;5;124m'\u001B[39m)\n\u001B[0;32m--> 808\u001B[0m     \u001B[38;5;28;01mreturn\u001B[39;00m \u001B[38;5;28;43mself\u001B[39;49m\u001B[38;5;241;43m.\u001B[39;49m\u001B[43m__extract_info\u001B[49m\u001B[43m(\u001B[49m\u001B[43murl\u001B[49m\u001B[43m,\u001B[49m\u001B[43m \u001B[49m\u001B[43mie\u001B[49m\u001B[43m,\u001B[49m\u001B[43m \u001B[49m\u001B[43mdownload\u001B[49m\u001B[43m,\u001B[49m\u001B[43m \u001B[49m\u001B[43mextra_info\u001B[49m\u001B[43m,\u001B[49m\u001B[43m \u001B[49m\u001B[43mprocess\u001B[49m\u001B[43m)\u001B[49m\n\u001B[1;32m    809\u001B[0m \u001B[38;5;28;01melse\u001B[39;00m:\n\u001B[1;32m    810\u001B[0m     \u001B[38;5;28mself\u001B[39m\u001B[38;5;241m.\u001B[39mreport_error(\u001B[38;5;124m'\u001B[39m\u001B[38;5;124mno suitable InfoExtractor for URL \u001B[39m\u001B[38;5;132;01m%s\u001B[39;00m\u001B[38;5;124m'\u001B[39m \u001B[38;5;241m%\u001B[39m url)\n",
      "File \u001B[0;32m/Library/Python/3.9/site-packages/youtube_dl/YoutubeDL.py:824\u001B[0m, in \u001B[0;36mYoutubeDL.__handle_extraction_exceptions.<locals>.wrapper\u001B[0;34m(self, *args, **kwargs)\u001B[0m\n\u001B[1;32m    822\u001B[0m     \u001B[38;5;28mself\u001B[39m\u001B[38;5;241m.\u001B[39mreport_error(msg)\n\u001B[1;32m    823\u001B[0m \u001B[38;5;28;01mexcept\u001B[39;00m ExtractorError \u001B[38;5;28;01mas\u001B[39;00m e:  \u001B[38;5;66;03m# An error we somewhat expected\u001B[39;00m\n\u001B[0;32m--> 824\u001B[0m     \u001B[38;5;28;43mself\u001B[39;49m\u001B[38;5;241;43m.\u001B[39;49m\u001B[43mreport_error\u001B[49m\u001B[43m(\u001B[49m\u001B[43mcompat_str\u001B[49m\u001B[43m(\u001B[49m\u001B[43me\u001B[49m\u001B[43m)\u001B[49m\u001B[43m,\u001B[49m\u001B[43m \u001B[49m\u001B[43me\u001B[49m\u001B[38;5;241;43m.\u001B[39;49m\u001B[43mformat_traceback\u001B[49m\u001B[43m(\u001B[49m\u001B[43m)\u001B[49m\u001B[43m)\u001B[49m\n\u001B[1;32m    825\u001B[0m \u001B[38;5;28;01mexcept\u001B[39;00m MaxDownloadsReached:\n\u001B[1;32m    826\u001B[0m     \u001B[38;5;28;01mraise\u001B[39;00m\n",
      "File \u001B[0;32m/Library/Python/3.9/site-packages/youtube_dl/YoutubeDL.py:628\u001B[0m, in \u001B[0;36mYoutubeDL.report_error\u001B[0;34m(self, message, tb)\u001B[0m\n\u001B[1;32m    626\u001B[0m     _msg_header \u001B[38;5;241m=\u001B[39m \u001B[38;5;124m'\u001B[39m\u001B[38;5;124mERROR:\u001B[39m\u001B[38;5;124m'\u001B[39m\n\u001B[1;32m    627\u001B[0m error_message \u001B[38;5;241m=\u001B[39m \u001B[38;5;124m'\u001B[39m\u001B[38;5;132;01m%s\u001B[39;00m\u001B[38;5;124m \u001B[39m\u001B[38;5;132;01m%s\u001B[39;00m\u001B[38;5;124m'\u001B[39m \u001B[38;5;241m%\u001B[39m (_msg_header, message)\n\u001B[0;32m--> 628\u001B[0m \u001B[38;5;28;43mself\u001B[39;49m\u001B[38;5;241;43m.\u001B[39;49m\u001B[43mtrouble\u001B[49m\u001B[43m(\u001B[49m\u001B[43merror_message\u001B[49m\u001B[43m,\u001B[49m\u001B[43m \u001B[49m\u001B[43mtb\u001B[49m\u001B[43m)\u001B[49m\n",
      "File \u001B[0;32m/Library/Python/3.9/site-packages/youtube_dl/YoutubeDL.py:598\u001B[0m, in \u001B[0;36mYoutubeDL.trouble\u001B[0;34m(self, message, tb)\u001B[0m\n\u001B[1;32m    596\u001B[0m     \u001B[38;5;28;01melse\u001B[39;00m:\n\u001B[1;32m    597\u001B[0m         exc_info \u001B[38;5;241m=\u001B[39m sys\u001B[38;5;241m.\u001B[39mexc_info()\n\u001B[0;32m--> 598\u001B[0m     \u001B[38;5;28;01mraise\u001B[39;00m DownloadError(message, exc_info)\n\u001B[1;32m    599\u001B[0m \u001B[38;5;28mself\u001B[39m\u001B[38;5;241m.\u001B[39m_download_retcode \u001B[38;5;241m=\u001B[39m \u001B[38;5;241m1\u001B[39m\n",
      "\u001B[0;31mDownloadError\u001B[0m: ERROR: No video formats found; please report this issue on https://yt-dl.org/bug . Make sure you are using the latest version; see  https://yt-dl.org/update  on how to update. Be sure to call youtube-dl with the --verbose flag and include its complete output."
     ]
    }
   ],
   "execution_count": 46
  },
  {
   "metadata": {
    "ExecuteTime": {
     "end_time": "2025-07-25T06:51:09.725770Z",
     "start_time": "2025-07-25T06:51:09.710040Z"
    }
   },
   "cell_type": "code",
   "source": [
    "from pydub import AudioSegment \n",
    "from tqdm import tqdm "
   ],
   "id": "45daca731c9b2fb6",
   "outputs": [],
   "execution_count": 4
  },
  {
   "metadata": {
    "ExecuteTime": {
     "end_time": "2025-07-25T06:51:09.910708Z",
     "start_time": "2025-07-25T06:51:09.907432Z"
    }
   },
   "cell_type": "code",
   "source": [
    "def split(mp3): \n",
    "    audio = AudioSegment.from_mp3(mp3) \n",
    "    duration = len(audio) / 1000 \n",
    "    parts = duration // 10 \n",
    "    print(parts, duration) \n",
    "    '''\n",
    "    for part in tqdm(range(int(parts))): \n",
    "        segment = audio[part * 10000:(part + 1) * 10000] \n",
    "        segment.export(f'../data_parsed/{mp3[8:-4]}_{part}.mp3') \n",
    "    '''"
   ],
   "id": "7b75104b801c52d1",
   "outputs": [],
   "execution_count": 5
  },
  {
   "metadata": {
    "ExecuteTime": {
     "end_time": "2025-07-25T06:51:22.726489Z",
     "start_time": "2025-07-25T06:51:10.542894Z"
    }
   },
   "cell_type": "code",
   "source": "split(\"../data/Relaxing_Medieval_Music.mp3\") ",
   "id": "385d8e220d9ebce1",
   "outputs": [
    {
     "name": "stdout",
     "output_type": "stream",
     "text": [
      "1190.0 11902.084\n"
     ]
    }
   ],
   "execution_count": 6
  },
  {
   "metadata": {},
   "cell_type": "code",
   "outputs": [],
   "execution_count": null,
   "source": "",
   "id": "6ee955d7c4f459ff"
  }
 ],
 "metadata": {
  "kernelspec": {
   "display_name": "Python 3",
   "language": "python",
   "name": "python3"
  },
  "language_info": {
   "codemirror_mode": {
    "name": "ipython",
    "version": 2
   },
   "file_extension": ".py",
   "mimetype": "text/x-python",
   "name": "python",
   "nbconvert_exporter": "python",
   "pygments_lexer": "ipython2",
   "version": "2.7.6"
  }
 },
 "nbformat": 4,
 "nbformat_minor": 5
}
